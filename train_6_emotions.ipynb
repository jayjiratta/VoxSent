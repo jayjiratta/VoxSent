{
 "cells": [
  {
   "cell_type": "code",
   "execution_count": 7,
   "metadata": {},
   "outputs": [
    {
     "data": {
      "text/html": [
       "<div>\n",
       "<style scoped>\n",
       "    .dataframe tbody tr th:only-of-type {\n",
       "        vertical-align: middle;\n",
       "    }\n",
       "\n",
       "    .dataframe tbody tr th {\n",
       "        vertical-align: top;\n",
       "    }\n",
       "\n",
       "    .dataframe thead th {\n",
       "        text-align: right;\n",
       "    }\n",
       "</style>\n",
       "<table border=\"1\" class=\"dataframe\">\n",
       "  <thead>\n",
       "    <tr style=\"text-align: right;\">\n",
       "      <th></th>\n",
       "      <th>text</th>\n",
       "      <th>emotion</th>\n",
       "    </tr>\n",
       "  </thead>\n",
       "  <tbody>\n",
       "    <tr>\n",
       "      <th>0</th>\n",
       "      <td>That game hurt.</td>\n",
       "      <td>sadness</td>\n",
       "    </tr>\n",
       "    <tr>\n",
       "      <th>1</th>\n",
       "      <td>&gt;sexuality shouldn’t be a grouping category I...</td>\n",
       "      <td>admiration</td>\n",
       "    </tr>\n",
       "    <tr>\n",
       "      <th>2</th>\n",
       "      <td>You do right, if you don't care then fuck 'em!</td>\n",
       "      <td>neutral</td>\n",
       "    </tr>\n",
       "    <tr>\n",
       "      <th>3</th>\n",
       "      <td>Man I love reddit.</td>\n",
       "      <td>love</td>\n",
       "    </tr>\n",
       "    <tr>\n",
       "      <th>4</th>\n",
       "      <td>[NAME] was nowhere near them, he was by the Fa...</td>\n",
       "      <td>neutral</td>\n",
       "    </tr>\n",
       "  </tbody>\n",
       "</table>\n",
       "</div>"
      ],
      "text/plain": [
       "                                                text     emotion\n",
       "0                                    That game hurt.     sadness\n",
       "1   >sexuality shouldn’t be a grouping category I...  admiration\n",
       "2     You do right, if you don't care then fuck 'em!     neutral\n",
       "3                                 Man I love reddit.        love\n",
       "4  [NAME] was nowhere near them, he was by the Fa...     neutral"
      ]
     },
     "execution_count": 7,
     "metadata": {},
     "output_type": "execute_result"
    }
   ],
   "source": [
    "import pandas as pd\n",
    "\n",
    "df = pd.read_csv('datasets\\goemotions_cleaned.csv')\n",
    "df = df.drop(columns=['id','example_very_unclear','emotion_num'])\n",
    "df.head()"
   ]
  },
  {
   "cell_type": "code",
   "execution_count": 18,
   "metadata": {},
   "outputs": [
    {
     "name": "stdout",
     "output_type": "stream",
     "text": [
      "emotion\n",
      "joy         82847\n",
      "neutral     55298\n",
      "anger       28802\n",
      "surprise    22904\n",
      "sadness     14494\n",
      "fear         3460\n",
      "disgust      3420\n",
      "Name: count, dtype: int64\n"
     ]
    },
    {
     "data": {
      "text/html": [
       "<div>\n",
       "<style scoped>\n",
       "    .dataframe tbody tr th:only-of-type {\n",
       "        vertical-align: middle;\n",
       "    }\n",
       "\n",
       "    .dataframe tbody tr th {\n",
       "        vertical-align: top;\n",
       "    }\n",
       "\n",
       "    .dataframe thead th {\n",
       "        text-align: right;\n",
       "    }\n",
       "</style>\n",
       "<table border=\"1\" class=\"dataframe\">\n",
       "  <thead>\n",
       "    <tr style=\"text-align: right;\">\n",
       "      <th></th>\n",
       "      <th>text</th>\n",
       "      <th>emotion</th>\n",
       "    </tr>\n",
       "  </thead>\n",
       "  <tbody>\n",
       "    <tr>\n",
       "      <th>0</th>\n",
       "      <td>That game hurt.</td>\n",
       "      <td>sadness</td>\n",
       "    </tr>\n",
       "    <tr>\n",
       "      <th>1</th>\n",
       "      <td>&gt;sexuality shouldn’t be a grouping category I...</td>\n",
       "      <td>joy</td>\n",
       "    </tr>\n",
       "    <tr>\n",
       "      <th>2</th>\n",
       "      <td>You do right, if you don't care then fuck 'em!</td>\n",
       "      <td>neutral</td>\n",
       "    </tr>\n",
       "    <tr>\n",
       "      <th>3</th>\n",
       "      <td>Man I love reddit.</td>\n",
       "      <td>joy</td>\n",
       "    </tr>\n",
       "    <tr>\n",
       "      <th>4</th>\n",
       "      <td>[NAME] was nowhere near them, he was by the Fa...</td>\n",
       "      <td>neutral</td>\n",
       "    </tr>\n",
       "  </tbody>\n",
       "</table>\n",
       "</div>"
      ],
      "text/plain": [
       "                                                text  emotion\n",
       "0                                    That game hurt.  sadness\n",
       "1   >sexuality shouldn’t be a grouping category I...      joy\n",
       "2     You do right, if you don't care then fuck 'em!  neutral\n",
       "3                                 Man I love reddit.      joy\n",
       "4  [NAME] was nowhere near them, he was by the Fa...  neutral"
      ]
     },
     "execution_count": 18,
     "metadata": {},
     "output_type": "execute_result"
    }
   ],
   "source": [
    "ekman_mapping = {\n",
    "\"anger\": [\"anger\", \"annoyance\", \"disapproval\"],\n",
    "\"disgust\": [\"disgust\"],\n",
    "\"fear\": [\"fear\", \"nervousness\"],\n",
    "\"joy\": [\"joy\", \"amusement\", \"approval\", \"excitement\", \"gratitude\",  \"love\", \"optimism\", \"relief\", \"pride\", \"admiration\", \"desire\", \"caring\"],\n",
    "\"sadness\": [\"sadness\", \"disappointment\", \"embarrassment\", \"grief\",  \"remorse\"],\n",
    "\"surprise\": [\"surprise\", \"realization\", \"confusion\", \"curiosity\"]\n",
    "}\n",
    "\n",
    "ekman_mapping[\"neutral\"] = [\"neutral\"]\n",
    "\n",
    "\n",
    "reverse_mapping = {value: key for key, values in ekman_mapping.items() for value in values}\n",
    "df[\"emotion\"] = df[\"emotion\"].map(reverse_mapping)\n",
    "\n",
    "print(df['emotion'].value_counts())\n",
    "df.head()"
   ]
  },
  {
   "cell_type": "code",
   "execution_count": 19,
   "metadata": {},
   "outputs": [
    {
     "name": "stdout",
     "output_type": "stream",
     "text": [
      "emotion\n",
      "sadness     3420\n",
      "surprise    3420\n",
      "fear        3420\n",
      "disgust     3420\n",
      "joy         3420\n",
      "anger       3420\n",
      "neutral     3420\n",
      "Name: count, dtype: int64\n"
     ]
    },
    {
     "data": {
      "text/html": [
       "<div>\n",
       "<style scoped>\n",
       "    .dataframe tbody tr th:only-of-type {\n",
       "        vertical-align: middle;\n",
       "    }\n",
       "\n",
       "    .dataframe tbody tr th {\n",
       "        vertical-align: top;\n",
       "    }\n",
       "\n",
       "    .dataframe thead th {\n",
       "        text-align: right;\n",
       "    }\n",
       "</style>\n",
       "<table border=\"1\" class=\"dataframe\">\n",
       "  <thead>\n",
       "    <tr style=\"text-align: right;\">\n",
       "      <th></th>\n",
       "      <th>text</th>\n",
       "      <th>emotion</th>\n",
       "    </tr>\n",
       "  </thead>\n",
       "  <tbody>\n",
       "    <tr>\n",
       "      <th>0</th>\n",
       "      <td>Sorry guys, accidentally sold 10,000k</td>\n",
       "      <td>sadness</td>\n",
       "    </tr>\n",
       "    <tr>\n",
       "      <th>1</th>\n",
       "      <td>Related question: is there a level cap? EDIT: ...</td>\n",
       "      <td>surprise</td>\n",
       "    </tr>\n",
       "    <tr>\n",
       "      <th>2</th>\n",
       "      <td>Other than family, I neither remember the last...</td>\n",
       "      <td>fear</td>\n",
       "    </tr>\n",
       "    <tr>\n",
       "      <th>3</th>\n",
       "      <td>*Ugh..* You are 23 and not married - leave.</td>\n",
       "      <td>disgust</td>\n",
       "    </tr>\n",
       "    <tr>\n",
       "      <th>4</th>\n",
       "      <td>I got grounded from reading once and it was th...</td>\n",
       "      <td>disgust</td>\n",
       "    </tr>\n",
       "  </tbody>\n",
       "</table>\n",
       "</div>"
      ],
      "text/plain": [
       "                                                text   emotion\n",
       "0              Sorry guys, accidentally sold 10,000k   sadness\n",
       "1  Related question: is there a level cap? EDIT: ...  surprise\n",
       "2  Other than family, I neither remember the last...      fear\n",
       "3        *Ugh..* You are 23 and not married - leave.   disgust\n",
       "4  I got grounded from reading once and it was th...   disgust"
      ]
     },
     "execution_count": 19,
     "metadata": {},
     "output_type": "execute_result"
    }
   ],
   "source": [
    "from sklearn.utils import resample\n",
    "target_count = min(df[\"emotion\"].value_counts())\n",
    "\n",
    "df_balanced = pd.concat([\n",
    "    resample(group, replace=(len(group) < target_count), n_samples=target_count, random_state=42)\n",
    "    for _, group in df.groupby(\"emotion\")\n",
    "])\n",
    "\n",
    "df_balanced = df_balanced.sample(frac=1, random_state=42).reset_index(drop=True)\n",
    "df_balanced[\"emotion\"].value_counts()\n",
    "print(df_balanced[\"emotion\"].value_counts())\n",
    "df_balanced.head()"
   ]
  },
  {
   "cell_type": "code",
   "execution_count": 21,
   "metadata": {},
   "outputs": [
    {
     "name": "stdout",
     "output_type": "stream",
     "text": [
      "{'sadness': 0, 'surprise': 1, 'fear': 2, 'disgust': 3, 'joy': 4, 'anger': 5, 'neutral': 6}\n"
     ]
    },
    {
     "data": {
      "text/html": [
       "<div>\n",
       "<style scoped>\n",
       "    .dataframe tbody tr th:only-of-type {\n",
       "        vertical-align: middle;\n",
       "    }\n",
       "\n",
       "    .dataframe tbody tr th {\n",
       "        vertical-align: top;\n",
       "    }\n",
       "\n",
       "    .dataframe thead th {\n",
       "        text-align: right;\n",
       "    }\n",
       "</style>\n",
       "<table border=\"1\" class=\"dataframe\">\n",
       "  <thead>\n",
       "    <tr style=\"text-align: right;\">\n",
       "      <th></th>\n",
       "      <th>text</th>\n",
       "      <th>emotion</th>\n",
       "    </tr>\n",
       "  </thead>\n",
       "  <tbody>\n",
       "    <tr>\n",
       "      <th>0</th>\n",
       "      <td>Sorry guys, accidentally sold 10,000k</td>\n",
       "      <td>0</td>\n",
       "    </tr>\n",
       "    <tr>\n",
       "      <th>1</th>\n",
       "      <td>Related question: is there a level cap? EDIT: ...</td>\n",
       "      <td>1</td>\n",
       "    </tr>\n",
       "    <tr>\n",
       "      <th>2</th>\n",
       "      <td>Other than family, I neither remember the last...</td>\n",
       "      <td>2</td>\n",
       "    </tr>\n",
       "    <tr>\n",
       "      <th>3</th>\n",
       "      <td>*Ugh..* You are 23 and not married - leave.</td>\n",
       "      <td>3</td>\n",
       "    </tr>\n",
       "    <tr>\n",
       "      <th>4</th>\n",
       "      <td>I got grounded from reading once and it was th...</td>\n",
       "      <td>3</td>\n",
       "    </tr>\n",
       "    <tr>\n",
       "      <th>...</th>\n",
       "      <td>...</td>\n",
       "      <td>...</td>\n",
       "    </tr>\n",
       "    <tr>\n",
       "      <th>23935</th>\n",
       "      <td>Wow, essential oils can now replace oxygen</td>\n",
       "      <td>1</td>\n",
       "    </tr>\n",
       "    <tr>\n",
       "      <th>23936</th>\n",
       "      <td>Taking the baby is the creepiest thing they’ve...</td>\n",
       "      <td>3</td>\n",
       "    </tr>\n",
       "    <tr>\n",
       "      <th>23937</th>\n",
       "      <td>Yeah Stupid Sexy groening</td>\n",
       "      <td>5</td>\n",
       "    </tr>\n",
       "    <tr>\n",
       "      <th>23938</th>\n",
       "      <td>Rash sun [NAME] dropping out of the first round?</td>\n",
       "      <td>6</td>\n",
       "    </tr>\n",
       "    <tr>\n",
       "      <th>23939</th>\n",
       "      <td>And she said this after [NAME] got naked in he...</td>\n",
       "      <td>1</td>\n",
       "    </tr>\n",
       "  </tbody>\n",
       "</table>\n",
       "<p>23940 rows × 2 columns</p>\n",
       "</div>"
      ],
      "text/plain": [
       "                                                    text  emotion\n",
       "0                  Sorry guys, accidentally sold 10,000k        0\n",
       "1      Related question: is there a level cap? EDIT: ...        1\n",
       "2      Other than family, I neither remember the last...        2\n",
       "3            *Ugh..* You are 23 and not married - leave.        3\n",
       "4      I got grounded from reading once and it was th...        3\n",
       "...                                                  ...      ...\n",
       "23935         Wow, essential oils can now replace oxygen        1\n",
       "23936  Taking the baby is the creepiest thing they’ve...        3\n",
       "23937                          Yeah Stupid Sexy groening        5\n",
       "23938   Rash sun [NAME] dropping out of the first round?        6\n",
       "23939  And she said this after [NAME] got naked in he...        1\n",
       "\n",
       "[23940 rows x 2 columns]"
      ]
     },
     "execution_count": 21,
     "metadata": {},
     "output_type": "execute_result"
    }
   ],
   "source": [
    "emotion_mapping = {emotion: idx for idx, emotion in enumerate(df_balanced[\"emotion\"].unique())}\n",
    "\n",
    "df_balanced[\"emotion\"] = df_balanced[\"emotion\"].map(emotion_mapping)\n",
    "print(emotion_mapping)\n",
    "df_balanced"
   ]
  },
  {
   "cell_type": "code",
   "execution_count": 20,
   "metadata": {},
   "outputs": [
    {
     "name": "stdout",
     "output_type": "stream",
     "text": [
      "Requirement already satisfied: matplotlib in c:\\users\\hp\\.conda\\envs\\emo\\lib\\site-packages (3.9.4)\n",
      "Requirement already satisfied: seaborn in c:\\users\\hp\\.conda\\envs\\emo\\lib\\site-packages (0.13.2)\n",
      "Requirement already satisfied: contourpy>=1.0.1 in c:\\users\\hp\\.conda\\envs\\emo\\lib\\site-packages (from matplotlib) (1.3.0)\n",
      "Requirement already satisfied: cycler>=0.10 in c:\\users\\hp\\.conda\\envs\\emo\\lib\\site-packages (from matplotlib) (0.12.1)\n",
      "Requirement already satisfied: fonttools>=4.22.0 in c:\\users\\hp\\.conda\\envs\\emo\\lib\\site-packages (from matplotlib) (4.56.0)\n",
      "Requirement already satisfied: kiwisolver>=1.3.1 in c:\\users\\hp\\.conda\\envs\\emo\\lib\\site-packages (from matplotlib) (1.4.7)\n",
      "Requirement already satisfied: numpy>=1.23 in c:\\users\\hp\\.conda\\envs\\emo\\lib\\site-packages (from matplotlib) (1.24.3)\n",
      "Requirement already satisfied: packaging>=20.0 in c:\\users\\hp\\.conda\\envs\\emo\\lib\\site-packages (from matplotlib) (24.2)\n",
      "Requirement already satisfied: pillow>=8 in c:\\users\\hp\\.conda\\envs\\emo\\lib\\site-packages (from matplotlib) (11.1.0)\n",
      "Requirement already satisfied: pyparsing>=2.3.1 in c:\\users\\hp\\.conda\\envs\\emo\\lib\\site-packages (from matplotlib) (3.2.1)\n",
      "Requirement already satisfied: python-dateutil>=2.7 in c:\\users\\hp\\.conda\\envs\\emo\\lib\\site-packages (from matplotlib) (2.9.0.post0)\n",
      "Requirement already satisfied: importlib-resources>=3.2.0 in c:\\users\\hp\\.conda\\envs\\emo\\lib\\site-packages (from matplotlib) (6.5.2)\n",
      "Requirement already satisfied: pandas>=1.2 in c:\\users\\hp\\.conda\\envs\\emo\\lib\\site-packages (from seaborn) (2.2.3)\n",
      "Requirement already satisfied: zipp>=3.1.0 in c:\\users\\hp\\.conda\\envs\\emo\\lib\\site-packages (from importlib-resources>=3.2.0->matplotlib) (3.21.0)\n",
      "Requirement already satisfied: pytz>=2020.1 in c:\\users\\hp\\.conda\\envs\\emo\\lib\\site-packages (from pandas>=1.2->seaborn) (2025.1)\n",
      "Requirement already satisfied: tzdata>=2022.7 in c:\\users\\hp\\.conda\\envs\\emo\\lib\\site-packages (from pandas>=1.2->seaborn) (2025.1)\n",
      "Requirement already satisfied: six>=1.5 in c:\\users\\hp\\.conda\\envs\\emo\\lib\\site-packages (from python-dateutil>=2.7->matplotlib) (1.17.0)\n",
      "Note: you may need to restart the kernel to use updated packages.\n"
     ]
    }
   ],
   "source": [
    "%pip install matplotlib seaborn\n",
    "\n",
    "import pandas as pd\n",
    "import numpy as np\n",
    "import matplotlib.pyplot as plt\n",
    "import seaborn as sns\n",
    "from sklearn.model_selection import train_test_split\n",
    "from sklearn.metrics import classification_report, confusion_matrix\n",
    "from tensorflow.keras.preprocessing.text import Tokenizer\n",
    "from tensorflow.keras.preprocessing.sequence import pad_sequences\n",
    "from tensorflow.keras.models import Sequential\n",
    "from tensorflow.keras.layers import Embedding, LSTM, Dense, Dropout\n",
    "from tensorflow.keras.callbacks import EarlyStopping\n",
    "import tensorflow as tf"
   ]
  },
  {
   "cell_type": "code",
   "execution_count": 23,
   "metadata": {},
   "outputs": [],
   "source": [
    "X_train, X_test, y_train, y_test = train_test_split(\n",
    "    df_balanced['text'], df_balanced['emotion'], test_size=0.3, random_state=42\n",
    ")"
   ]
  },
  {
   "cell_type": "code",
   "execution_count": 24,
   "metadata": {},
   "outputs": [],
   "source": [
    "max_words = 10000\n",
    "max_len = 100\n",
    "tokenizer = Tokenizer(num_words=max_words)\n",
    "tokenizer.fit_on_texts(X_train)"
   ]
  },
  {
   "cell_type": "code",
   "execution_count": 57,
   "metadata": {},
   "outputs": [
    {
     "data": {
      "text/plain": [
       "7"
      ]
     },
     "execution_count": 57,
     "metadata": {},
     "output_type": "execute_result"
    }
   ],
   "source": [
    "X_train_seq = tokenizer.texts_to_sequences(X_train)\n",
    "X_test_seq = tokenizer.texts_to_sequences(X_test)\n",
    "\n",
    "X_train_pad = pad_sequences(X_train_seq, maxlen=max_len)\n",
    "X_test_pad = pad_sequences(X_test_seq, maxlen=max_len)\n",
    "\n",
    "num_classes = df_balanced['emotion'].nunique()\n",
    "y_train_cat = tf.keras.utils.to_categorical(y_train, num_classes=num_classes)\n",
    "y_test_cat = tf.keras.utils.to_categorical(y_test, num_classes=num_classes)\n",
    "num_classes"
   ]
  },
  {
   "cell_type": "code",
   "execution_count": 46,
   "metadata": {},
   "outputs": [
    {
     "name": "stdout",
     "output_type": "stream",
     "text": [
      "WARNING:tensorflow:Layer lstm_9 will not use cuDNN kernels since it doesn't meet the criteria. It will use a generic GPU kernel as fallback when running on GPU.\n",
      "WARNING:tensorflow:Layer lstm_10 will not use cuDNN kernels since it doesn't meet the criteria. It will use a generic GPU kernel as fallback when running on GPU.\n",
      "Model: \"model\"\n",
      "__________________________________________________________________________________________________\n",
      " Layer (type)                   Output Shape         Param #     Connected to                     \n",
      "==================================================================================================\n",
      " input_2 (InputLayer)           [(None, 100)]        0           []                               \n",
      "                                                                                                  \n",
      " embedding_6 (Embedding)        (None, 100, 128)     1280000     ['input_2[0][0]']                \n",
      "                                                                                                  \n",
      " lstm_9 (LSTM)                  (None, 100, 128)     131584      ['embedding_6[0][0]']            \n",
      "                                                                                                  \n",
      " lstm_10 (LSTM)                 (None, 100, 64)      49408       ['lstm_9[0][0]']                 \n",
      "                                                                                                  \n",
      " dense_10 (Dense)               (None, 100, 64)      4160        ['lstm_10[0][0]']                \n",
      "                                                                                                  \n",
      " attention_2 (Attention)        (None, 100, 64)      0           ['dense_10[0][0]',               \n",
      "                                                                  'lstm_10[0][0]']                \n",
      "                                                                                                  \n",
      " dense_11 (Dense)               (None, 100, 64)      4160        ['attention_2[0][0]']            \n",
      "                                                                                                  \n",
      " dropout_4 (Dropout)            (None, 100, 64)      0           ['dense_11[0][0]']               \n",
      "                                                                                                  \n",
      " dense_12 (Dense)               (None, 100, 7)       455         ['dropout_4[0][0]']              \n",
      "                                                                                                  \n",
      "==================================================================================================\n",
      "Total params: 1,469,767\n",
      "Trainable params: 1,469,767\n",
      "Non-trainable params: 0\n",
      "__________________________________________________________________________________________________\n"
     ]
    }
   ],
   "source": [
    "from tensorflow.keras.models import Model\n",
    "from tensorflow.keras.regularizers import l2\n",
    "from tensorflow.keras.layers import Input, Attention\n",
    "\n",
    "# model = Sequential()\n",
    "# model.add(Embedding(max_words, 128, input_length=max_len))\n",
    "# model.add(LSTM(128, dropout=0.3, recurrent_dropout=0.3, return_sequences=True))\n",
    "# model.add(LSTM(64, dropout=0.3, recurrent_dropout=0.3))\n",
    "# model.add(Dense(64, activation='relu', kernel_regularizer=l2(0.01)))\n",
    "# model.add(Attention())\n",
    "# model.add(Dropout(0.5))\n",
    "# model.add(Dense(num_classes, activation='softmax'))\n",
    "\n",
    "# model.compile(loss='categorical_crossentropy', optimizer='adam', metrics=['accuracy'])\n",
    "\n",
    "# model.summary()\n",
    "\n",
    "input_layer = Input(shape=(max_len,))\n",
    "\n",
    "embedding = Embedding(max_words, 128, input_length=max_len)(input_layer)\n",
    "\n",
    "lstm1 = LSTM(128, dropout=0.3, recurrent_dropout=0.3, return_sequences=True)(embedding)\n",
    "lstm2 = LSTM(64, dropout=0.3, recurrent_dropout=0.3, return_sequences=True)(lstm1)\n",
    "\n",
    "query = Dense(64)(lstm2)  \n",
    "attention = Attention()([query, lstm2])  \n",
    "\n",
    "dense = Dense(64, activation='relu', kernel_regularizer=l2(0.01))(attention)\n",
    "dropout = Dropout(0.5)(dense)\n",
    "output_layer = Dense(num_classes, activation='softmax')(dropout)\n",
    "\n",
    "model = Model(inputs=input_layer, outputs=output_layer)\n",
    "\n",
    "model.compile(loss='categorical_crossentropy', optimizer='adam', metrics=['accuracy'])\n",
    "model.summary()"
   ]
  },
  {
   "cell_type": "code",
   "execution_count": 47,
   "metadata": {},
   "outputs": [],
   "source": [
    "early_stopping = EarlyStopping(monitor='val_loss', patience=3, restore_best_weights=True)"
   ]
  },
  {
   "cell_type": "code",
   "execution_count": null,
   "metadata": {},
   "outputs": [
    {
     "name": "stdout",
     "output_type": "stream",
     "text": [
      "Epoch 1/20\n",
      "210/210 [==============================] - 184s 863ms/step - loss: 2.1275 - accuracy: 0.1655 - val_loss: 1.9157 - val_accuracy: 0.2145\n",
      "Epoch 2/20\n",
      "210/210 [==============================] - 176s 840ms/step - loss: 1.8161 - accuracy: 0.2643 - val_loss: 1.7785 - val_accuracy: 0.3070\n",
      "Epoch 3/20\n",
      "210/210 [==============================] - 179s 854ms/step - loss: 1.6387 - accuracy: 0.3792 - val_loss: 1.7265 - val_accuracy: 0.3649\n",
      "Epoch 4/20\n",
      "210/210 [==============================] - 180s 857ms/step - loss: 1.4653 - accuracy: 0.4886 - val_loss: 1.7150 - val_accuracy: 0.3881\n",
      "Epoch 5/20\n",
      "210/210 [==============================] - 179s 850ms/step - loss: 1.3179 - accuracy: 0.5600 - val_loss: 1.7459 - val_accuracy: 0.3968\n",
      "Epoch 6/20\n",
      "210/210 [==============================] - 178s 850ms/step - loss: 1.1849 - accuracy: 0.6221 - val_loss: 1.8809 - val_accuracy: 0.3801\n",
      "Epoch 7/20\n",
      "210/210 [==============================] - 179s 852ms/step - loss: 1.0767 - accuracy: 0.6685 - val_loss: 1.9169 - val_accuracy: 0.3881\n"
     ]
    }
   ],
   "source": [
    "history = model.fit(\n",
    "    X_train_pad, y_train_cat,\n",
    "    epochs=20,\n",
    "    batch_size=64,\n",
    "    validation_data=(X_test, y_test_cat),\n",
    "    callbacks=[early_stopping]\n",
    ")"
   ]
  },
  {
   "cell_type": "code",
   "execution_count": 37,
   "metadata": {},
   "outputs": [
    {
     "name": "stdout",
     "output_type": "stream",
     "text": [
      "225/225 [==============================] - 19s 82ms/step - loss: 1.7434 - accuracy: 0.3871\n",
      "Test Loss: 1.7434\n",
      "Test Accuracy: 0.3871\n"
     ]
    }
   ],
   "source": [
    "loss, accuracy = model.evaluate(X_test_pad, y_test_cat)\n",
    "print(f\"Test Loss: {loss:.4f}\")\n",
    "print(f\"Test Accuracy: {accuracy:.4f}\")"
   ]
  },
  {
   "cell_type": "code",
   "execution_count": 39,
   "metadata": {},
   "outputs": [
    {
     "data": {
      "image/png": "[encoded data removed]",
      "text/plain": [
       "<Figure size 1200x500 with 2 Axes>"
      ]
     },
     "metadata": {},
     "output_type": "display_data"
    }
   ],
   "source": [
    "plt.figure(figsize=(12, 5))\n",
    "\n",
    "plt.subplot(1, 2, 1)\n",
    "plt.plot(history.history['accuracy'], label='Train Accuracy')\n",
    "plt.plot(history.history['val_accuracy'], label='Validation Accuracy')\n",
    "plt.title('Model Accuracy')\n",
    "plt.xlabel('Epoch')\n",
    "plt.ylabel('Accuracy')\n",
    "plt.legend()\n",
    "\n",
    "plt.subplot(1, 2, 2)\n",
    "plt.plot(history.history['loss'], label='Train Loss')\n",
    "plt.plot(history.history['val_loss'], label='Validation Loss')\n",
    "plt.title('Model Loss')\n",
    "plt.xlabel('Epoch')\n",
    "plt.ylabel('Loss')\n",
    "plt.legend()\n",
    "\n",
    "plt.tight_layout()\n",
    "plt.savefig('models/version2/training_history.png')\n",
    "plt.show()"
   ]
  },
  {
   "cell_type": "code",
   "execution_count": 40,
   "metadata": {},
   "outputs": [
    {
     "name": "stdout",
     "output_type": "stream",
     "text": [
      "225/225 [==============================] - 19s 82ms/step\n"
     ]
    }
   ],
   "source": [
    "y_pred_probs = model.predict(X_test_pad)\n",
    "y_pred = np.argmax(y_pred_probs, axis=1)\n",
    "y_test_labels = np.array(y_test)"
   ]
  },
  {
   "cell_type": "code",
   "execution_count": 48,
   "metadata": {},
   "outputs": [
    {
     "data": {
      "image/png": "[encoded data removed]",
      "text/plain": [
       "<Figure size 1000x800 with 2 Axes>"
      ]
     },
     "metadata": {},
     "output_type": "display_data"
    }
   ],
   "source": [
    "cm = confusion_matrix(y_test_labels, y_pred)\n",
    "plt.figure(figsize=(10, 8))\n",
    "sns.heatmap(cm, annot=True, fmt='d', cmap='Blues')\n",
    "plt.title('Confusion Matrix')\n",
    "plt.xlabel('Predicted Label')\n",
    "plt.ylabel('True Label')\n",
    "plt.savefig('models/version2/confusion_matrix.png')\n",
    "plt.show()"
   ]
  },
  {
   "cell_type": "code",
   "execution_count": 49,
   "metadata": {},
   "outputs": [
    {
     "name": "stdout",
     "output_type": "stream",
     "text": [
      "Classification Report:\n",
      "              precision    recall  f1-score   support\n",
      "\n",
      "           0       0.32      0.47      0.38      1030\n",
      "           1       0.34      0.33      0.33      1027\n",
      "           2       0.55      0.59      0.57      1036\n",
      "           3       0.40      0.54      0.46      1015\n",
      "           4       0.44      0.45      0.45      1025\n",
      "           5       0.27      0.10      0.15      1060\n",
      "           6       0.29      0.23      0.26       989\n",
      "\n",
      "    accuracy                           0.39      7182\n",
      "   macro avg       0.38      0.39      0.37      7182\n",
      "weighted avg       0.38      0.39      0.37      7182\n",
      "\n"
     ]
    }
   ],
   "source": [
    "print(\"Classification Report:\")\n",
    "print(classification_report(y_test_labels, y_pred))"
   ]
  },
  {
   "cell_type": "code",
   "execution_count": 51,
   "metadata": {},
   "outputs": [],
   "source": [
    "model.save('models/version2/emotion_prediction_model.h5')\n",
    "\n",
    "import pickle\n",
    "with open('models/version2/tokenizer.pickle', 'wb') as handle:\n",
    "    pickle.dump(tokenizer, handle, protocol=pickle.HIGHEST_PROTOCOL)"
   ]
  }
 ],
 "metadata": {
  "kernelspec": {
   "display_name": "Python 3",
   "language": "python",
   "name": "python3"
  },
  "language_info": {
   "codemirror_mode": {
    "name": "ipython",
    "version": 3
   },
   "file_extension": ".py",
   "mimetype": "text/x-python",
   "name": "python",
   "nbconvert_exporter": "python",
   "pygments_lexer": "ipython3",
   "version": "3.9.21"
  }
 },
 "nbformat": 4,
 "nbformat_minor": 2
}
